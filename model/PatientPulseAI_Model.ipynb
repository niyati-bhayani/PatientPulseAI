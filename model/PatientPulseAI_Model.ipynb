{
 "cells": [
  {
   "cell_type": "markdown",
   "id": "1a4dd91b-7c82-4222-afce-02760820b18f",
   "metadata": {},
   "source": [
    "<b> Import Libraries </b>"
   ]
  },
  {
   "cell_type": "code",
   "execution_count": 1,
   "id": "05bbe44d-2e6e-47ae-948e-2e0a9da2948e",
   "metadata": {},
   "outputs": [],
   "source": [
    "import numpy as np\n",
    "import pandas as pd\n",
    "import matplotlib.pyplot as plt\n",
    "import seaborn as sns\n",
    "import warnings\n",
    "warnings.filterwarnings(\"ignore\")\n",
    "\n",
    "from sklearn.model_selection import train_test_split"
   ]
  },
  {
   "cell_type": "code",
   "execution_count": 2,
   "id": "59116664-efd4-431e-894e-669d6adffb05",
   "metadata": {},
   "outputs": [],
   "source": [
    "import torch #PyTorch\n",
    "from transformers import BertTokenizer, BertForSequenceClassification, AdamW \n",
    "from torch.utils.data import DataLoader, Dataset\n",
    "import evaluate #Calculate metrics like accuracy"
   ]
  },
  {
   "cell_type": "markdown",
   "id": "36551708-5f3d-45a0-9efe-973c953ccf14",
   "metadata": {},
   "source": [
    "<b> Read File & EDA </b>"
   ]
  },
  {
   "cell_type": "code",
   "execution_count": 3,
   "id": "fbdb80d8-941e-480b-b0f5-f74b1368ada3",
   "metadata": {},
   "outputs": [],
   "source": [
    "#Load Data\n",
    "data = pd.read_csv(\"F:\\\\New\\\\5. Sentiment Analysis\\\\Patient Feedback Data - Kaggle\\\\doctorReviews.csv\")"
   ]
  },
  {
   "cell_type": "code",
   "execution_count": 4,
   "id": "c67f44fc-ff87-4c18-acf1-4a96b13b398b",
   "metadata": {},
   "outputs": [],
   "source": [
    "#Renaming the columns\n",
    "data.columns = [\"PatientID\", \"Review\", \"Label\", \"Tag\"]"
   ]
  },
  {
   "cell_type": "code",
   "execution_count": 5,
   "id": "9d42b4b7-2f62-4034-a5da-2b1ea4d370f0",
   "metadata": {},
   "outputs": [
    {
     "data": {
      "text/html": [
       "<div>\n",
       "<style scoped>\n",
       "    .dataframe tbody tr th:only-of-type {\n",
       "        vertical-align: middle;\n",
       "    }\n",
       "\n",
       "    .dataframe tbody tr th {\n",
       "        vertical-align: top;\n",
       "    }\n",
       "\n",
       "    .dataframe thead th {\n",
       "        text-align: right;\n",
       "    }\n",
       "</style>\n",
       "<table border=\"1\" class=\"dataframe\">\n",
       "  <thead>\n",
       "    <tr style=\"text-align: right;\">\n",
       "      <th></th>\n",
       "      <th>PatientID</th>\n",
       "      <th>Review</th>\n",
       "      <th>Label</th>\n",
       "      <th>Tag</th>\n",
       "    </tr>\n",
       "  </thead>\n",
       "  <tbody>\n",
       "    <tr>\n",
       "      <th>69</th>\n",
       "      <td>74</td>\n",
       "      <td>this radiologist is always late where many pat...</td>\n",
       "      <td>0</td>\n",
       "      <td>negative</td>\n",
       "    </tr>\n",
       "    <tr>\n",
       "      <th>9</th>\n",
       "      <td>114</td>\n",
       "      <td>not available on time need to improve availabi...</td>\n",
       "      <td>0</td>\n",
       "      <td>negative</td>\n",
       "    </tr>\n",
       "    <tr>\n",
       "      <th>45</th>\n",
       "      <td>136</td>\n",
       "      <td>the doctor was not available at the time when ...</td>\n",
       "      <td>0</td>\n",
       "      <td>negative</td>\n",
       "    </tr>\n",
       "    <tr>\n",
       "      <th>79</th>\n",
       "      <td>66</td>\n",
       "      <td>very cordial explained indepth for me to under...</td>\n",
       "      <td>1</td>\n",
       "      <td>positive</td>\n",
       "    </tr>\n",
       "    <tr>\n",
       "      <th>28</th>\n",
       "      <td>6</td>\n",
       "      <td>the appointment was for my family member and w...</td>\n",
       "      <td>1</td>\n",
       "      <td>positive</td>\n",
       "    </tr>\n",
       "  </tbody>\n",
       "</table>\n",
       "</div>"
      ],
      "text/plain": [
       "    PatientID                                             Review  Label  \\\n",
       "69         74  this radiologist is always late where many pat...      0   \n",
       "9         114  not available on time need to improve availabi...      0   \n",
       "45        136  the doctor was not available at the time when ...      0   \n",
       "79         66  very cordial explained indepth for me to under...      1   \n",
       "28          6  the appointment was for my family member and w...      1   \n",
       "\n",
       "         Tag  \n",
       "69  negative  \n",
       "9   negative  \n",
       "45  negative  \n",
       "79  positive  \n",
       "28  positive  "
      ]
     },
     "execution_count": 5,
     "metadata": {},
     "output_type": "execute_result"
    }
   ],
   "source": [
    "#Read data\n",
    "data.sample(n=5)"
   ]
  },
  {
   "cell_type": "code",
   "execution_count": 6,
   "id": "12d5b7cd-c548-464c-b4aa-457faced7954",
   "metadata": {},
   "outputs": [
    {
     "data": {
      "text/plain": [
       "(143, 4)"
      ]
     },
     "execution_count": 6,
     "metadata": {},
     "output_type": "execute_result"
    }
   ],
   "source": [
    "#Shape\n",
    "data.shape"
   ]
  },
  {
   "cell_type": "code",
   "execution_count": 7,
   "id": "9d6d9c4d-b51d-461d-94e2-a8b6b1a58c8f",
   "metadata": {},
   "outputs": [
    {
     "name": "stdout",
     "output_type": "stream",
     "text": [
      "<class 'pandas.core.frame.DataFrame'>\n",
      "RangeIndex: 143 entries, 0 to 142\n",
      "Data columns (total 4 columns):\n",
      " #   Column     Non-Null Count  Dtype \n",
      "---  ------     --------------  ----- \n",
      " 0   PatientID  143 non-null    int64 \n",
      " 1   Review     143 non-null    object\n",
      " 2   Label      143 non-null    int64 \n",
      " 3   Tag        143 non-null    object\n",
      "dtypes: int64(2), object(2)\n",
      "memory usage: 4.6+ KB\n"
     ]
    }
   ],
   "source": [
    "#Check for null values\n",
    "data.info()"
   ]
  },
  {
   "cell_type": "code",
   "execution_count": 8,
   "id": "8ad7b698-34cd-47ce-9726-3e5fcf295e1a",
   "metadata": {},
   "outputs": [],
   "source": [
    "#Convert Review to String Datatype\n",
    "data[\"Review\"] = data[\"Review\"].astype(str)"
   ]
  },
  {
   "cell_type": "markdown",
   "id": "963fdb4c-1023-4ace-b672-83a68d04166f",
   "metadata": {},
   "source": [
    "<b> Split the data into Train and Test data</b>"
   ]
  },
  {
   "cell_type": "code",
   "execution_count": 9,
   "id": "4ee3aa6d-085b-4597-91b8-e972b32d0324",
   "metadata": {},
   "outputs": [],
   "source": [
    "train, test = train_test_split(data, test_size=0.2, random_state=40)"
   ]
  },
  {
   "cell_type": "code",
   "execution_count": 10,
   "id": "7a50b865-c517-408e-88a8-c70116b15a41",
   "metadata": {},
   "outputs": [
    {
     "name": "stdout",
     "output_type": "stream",
     "text": [
      "Train: (114, 4)\n",
      "Test: (29, 4)\n"
     ]
    }
   ],
   "source": [
    "#Shape of Train and Test\n",
    "print(\"Train:\", train.shape)\n",
    "print(\"Test:\", test.shape)"
   ]
  },
  {
   "cell_type": "code",
   "execution_count": 11,
   "id": "3a99cac1-1cb1-48a5-923e-4bdcddbe6657",
   "metadata": {},
   "outputs": [],
   "source": [
    "#Extracts text and labels for training and testing splits\n",
    "train_reviews = train[\"Review\"].astype(str)\n",
    "train_labels = train[\"Label\"]\n",
    "test_reviews = test[\"Review\"].astype(str)\n",
    "test_labels = test[\"Label\"]"
   ]
  },
  {
   "cell_type": "code",
   "execution_count": 12,
   "id": "bf5f6f6d-fa11-4a9c-8fba-bb41c22227a4",
   "metadata": {},
   "outputs": [],
   "source": [
    "train_reviews = train_reviews.astype(str).tolist()\n",
    "test_reviews = test_reviews.astype(str).tolist()"
   ]
  },
  {
   "cell_type": "markdown",
   "id": "698b2910-ad01-49fa-b83e-85f2f2d6c7f4",
   "metadata": {},
   "source": [
    "<b> BERT Tokenizer and Model </b>"
   ]
  },
  {
   "cell_type": "code",
   "execution_count": 13,
   "id": "acea7d5c-3ea9-49c0-bfd6-660810016dc9",
   "metadata": {},
   "outputs": [],
   "source": [
    "#Load pre-trained BERT tokenizer and model\n",
    "tokenizer = BertTokenizer.from_pretrained('bert-base-uncased') #Loads a pre-trained BERT tokenizer (bert-base-uncased), which splits text into tokens compatible with the BERT model."
   ]
  },
  {
   "cell_type": "markdown",
   "id": "144db1ae-822e-40c4-9eba-9cd0528ff98c",
   "metadata": {},
   "source": [
    "input_ids: Tokenized IDs of the text, including special tokens:\n",
    "- [101] = [CLS] (start of the sentence)\n",
    "- [102] = [SEP] (end of the sentence)\n",
    "\n",
    "attention_mask: Indicates which tokens are real (1) and which are padding (0)"
   ]
  },
  {
   "cell_type": "code",
   "execution_count": 14,
   "id": "cbae93f8-f65b-4948-88e7-f59edd8e8c16",
   "metadata": {},
   "outputs": [
    {
     "name": "stderr",
     "output_type": "stream",
     "text": [
      "Some weights of BertForSequenceClassification were not initialized from the model checkpoint at bert-base-uncased and are newly initialized: ['classifier.bias', 'classifier.weight']\n",
      "You should probably TRAIN this model on a down-stream task to be able to use it for predictions and inference.\n"
     ]
    }
   ],
   "source": [
    "#Loads a pre-trained BERT model for binary classification (num_labels=2)\n",
    "model_pr = BertForSequenceClassification.from_pretrained('bert-base-uncased', num_labels=2)"
   ]
  },
  {
   "cell_type": "markdown",
   "id": "d5b1606d-ddc5-4f48-b15c-c4386725b520",
   "metadata": {},
   "source": [
    "bert-base-uncased:\n",
    "\n",
    "- Pre-trained BERT model with 12 transformer layers.\n",
    "- Processes input_ids and computes contextual embeddings for each token.\n",
    "- The [CLS] token’s embedding is used as the representation of the entire input sequence."
   ]
  },
  {
   "cell_type": "markdown",
   "id": "a7553db4-54c2-4fe1-a7b5-31e12e1c9590",
   "metadata": {},
   "source": [
    "Classification Head:\n",
    "\n",
    "- A fully connected layer is applied to the [CLS] token’s embedding\n",
    "- Outputs logits: raw scores for each class (positive and negative sentiment)"
   ]
  },
  {
   "cell_type": "markdown",
   "id": "20f57096-e3a2-4d80-98ae-2a4e1f9f998b",
   "metadata": {},
   "source": [
    "<b> Custom Dataset Class </b>"
   ]
  },
  {
   "cell_type": "code",
   "execution_count": 31,
   "id": "cfa2674c-4270-4c78-84d9-cbe51e5c7fe3",
   "metadata": {},
   "outputs": [],
   "source": [
    "class PatientReviewDataset(Dataset):\n",
    "    #Initializes the dataset with tokenized encodings and corresponding labels\n",
    "    def __init__(self, encodings, labels):\n",
    "        self.encodings = encodings\n",
    "        self.labels = labels\n",
    "\n",
    "    #Returns the number of examples in the dataset\n",
    "    def __len__(self):\n",
    "        #Use the minimum length to avoid indexing issues\n",
    "        return min(len(self.encodings[\"input_ids\"]), len(self.labels))\n",
    "\n",
    "    #Retrieves a single example at a given index as a dictionary containing: input_ids, attention_mask, and labels\n",
    "    def __getitem__(self, idx):\n",
    "        # Ensure the index is within bounds\n",
    "        if idx >= len(self.labels):\n",
    "            raise IndexError(f\"Index {idx} out of bounds for labels of size {len(self.labels)}\")\n",
    "        item = {key: torch.tensor(val[idx]) for key, val in self.encodings.items()}\n",
    "        item[\"labels\"] = torch.tensor(self.labels.iloc[idx] if isinstance(self.labels, pd.Series) else self.labels[idx])\n",
    "        return item"
   ]
  },
  {
   "cell_type": "markdown",
   "id": "02cf23a4-1a0e-45cb-a6f5-6802831cbcf7",
   "metadata": {},
   "source": [
    "<b> Tokenization </b>"
   ]
  },
  {
   "cell_type": "code",
   "execution_count": 32,
   "id": "576b4f5b-0968-408f-bf9f-a305dd4138e7",
   "metadata": {},
   "outputs": [],
   "source": [
    "#Tokenizes the text data\n",
    "train_encodings = tokenizer(train_reviews, truncation=True, padding=True, max_length=128) \n",
    "test_encodings = tokenizer(test_reviews, truncation=True, padding=True, max_length=128)"
   ]
  },
  {
   "cell_type": "markdown",
   "id": "707df8b8-527e-4998-8a19-d2c3cf7b97e9",
   "metadata": {},
   "source": [
    "truncation=True: Truncates text longer than 128 tokens\n",
    "\n",
    "padding=True: Pads shorter text to 128 tokens"
   ]
  },
  {
   "cell_type": "markdown",
   "id": "0663217a-dfd6-4c3b-9d0b-68ef18f7a29d",
   "metadata": {},
   "source": [
    "<b> Dataset and DataLoader"
   ]
  },
  {
   "cell_type": "code",
   "execution_count": 33,
   "id": "c00a55f3-de18-4791-8264-0e187e14a74a",
   "metadata": {},
   "outputs": [],
   "source": [
    "#Creates IMDbDataset objects for training and testing data\n",
    "train_dataset = PatientReviewDataset(train_encodings, train_labels)\n",
    "test_dataset = PatientReviewDataset(test_encodings, test_labels)"
   ]
  },
  {
   "cell_type": "code",
   "execution_count": 34,
   "id": "1d3a6134-c352-4a0e-b184-967ab641d0f7",
   "metadata": {},
   "outputs": [],
   "source": [
    "#Wraps datasets in DataLoader for batch processing\n",
    "train_loader = DataLoader(train_dataset, batch_size=16, shuffle=True)\n",
    "test_loader = DataLoader(test_dataset, batch_size=16)"
   ]
  },
  {
   "cell_type": "markdown",
   "id": "1f674dfc-40fd-4bcf-bcc9-14eb53b185b8",
   "metadata": {},
   "source": [
    "batch_size=16: Each batch contains 16 examples\n",
    "\n",
    "shuffle=True: Shuffles training data"
   ]
  },
  {
   "cell_type": "markdown",
   "id": "b907f697-65c5-42a7-8b06-c37bf680c10f",
   "metadata": {},
   "source": [
    "<b> Optimizer </b>"
   ]
  },
  {
   "cell_type": "code",
   "execution_count": 35,
   "id": "1c4dfdd0",
   "metadata": {},
   "outputs": [],
   "source": [
    "#Configures the optimizer with model parameters and a learning rate of 2e-5\n",
    "optimizer = AdamW(model_pr.parameters(), lr=2e-5)"
   ]
  },
  {
   "cell_type": "markdown",
   "id": "f7f996df-72fd-4c33-8d54-0ce9760ee077",
   "metadata": {},
   "source": [
    "<b> Device Configuration </b>"
   ]
  },
  {
   "cell_type": "code",
   "execution_count": 36,
   "id": "1757b409-2b74-434a-99dd-24ac4dcb30e0",
   "metadata": {},
   "outputs": [
    {
     "data": {
      "text/plain": [
       "BertForSequenceClassification(\n",
       "  (bert): BertModel(\n",
       "    (embeddings): BertEmbeddings(\n",
       "      (word_embeddings): Embedding(30522, 768, padding_idx=0)\n",
       "      (position_embeddings): Embedding(512, 768)\n",
       "      (token_type_embeddings): Embedding(2, 768)\n",
       "      (LayerNorm): LayerNorm((768,), eps=1e-12, elementwise_affine=True)\n",
       "      (dropout): Dropout(p=0.1, inplace=False)\n",
       "    )\n",
       "    (encoder): BertEncoder(\n",
       "      (layer): ModuleList(\n",
       "        (0-11): 12 x BertLayer(\n",
       "          (attention): BertAttention(\n",
       "            (self): BertSdpaSelfAttention(\n",
       "              (query): Linear(in_features=768, out_features=768, bias=True)\n",
       "              (key): Linear(in_features=768, out_features=768, bias=True)\n",
       "              (value): Linear(in_features=768, out_features=768, bias=True)\n",
       "              (dropout): Dropout(p=0.1, inplace=False)\n",
       "            )\n",
       "            (output): BertSelfOutput(\n",
       "              (dense): Linear(in_features=768, out_features=768, bias=True)\n",
       "              (LayerNorm): LayerNorm((768,), eps=1e-12, elementwise_affine=True)\n",
       "              (dropout): Dropout(p=0.1, inplace=False)\n",
       "            )\n",
       "          )\n",
       "          (intermediate): BertIntermediate(\n",
       "            (dense): Linear(in_features=768, out_features=3072, bias=True)\n",
       "            (intermediate_act_fn): GELUActivation()\n",
       "          )\n",
       "          (output): BertOutput(\n",
       "            (dense): Linear(in_features=3072, out_features=768, bias=True)\n",
       "            (LayerNorm): LayerNorm((768,), eps=1e-12, elementwise_affine=True)\n",
       "            (dropout): Dropout(p=0.1, inplace=False)\n",
       "          )\n",
       "        )\n",
       "      )\n",
       "    )\n",
       "    (pooler): BertPooler(\n",
       "      (dense): Linear(in_features=768, out_features=768, bias=True)\n",
       "      (activation): Tanh()\n",
       "    )\n",
       "  )\n",
       "  (dropout): Dropout(p=0.1, inplace=False)\n",
       "  (classifier): Linear(in_features=768, out_features=2, bias=True)\n",
       ")"
      ]
     },
     "execution_count": 36,
     "metadata": {},
     "output_type": "execute_result"
    }
   ],
   "source": [
    "#Moves the model to GPU (cuda) if available; otherwise, uses CPU\n",
    "device = torch.device('cuda') if torch.cuda.is_available() else torch.device('cpu')\n",
    "model_pr.to(device)"
   ]
  },
  {
   "cell_type": "markdown",
   "id": "d685013c-4caf-476e-8a5e-608e90128f4b",
   "metadata": {},
   "source": [
    "<b> Training Loop </b>"
   ]
  },
  {
   "cell_type": "code",
   "execution_count": 37,
   "id": "b26c6080-3b14-4a83-b421-bf65f3f05c04",
   "metadata": {},
   "outputs": [],
   "source": [
    "#Trains the model for 3 epochs\n",
    "for epoch in range(3): \n",
    "    model_pr.train()\n",
    "    total_loss = 0"
   ]
  },
  {
   "cell_type": "code",
   "execution_count": 38,
   "id": "947ad6ff-edcf-4489-9206-0c6b6256ed01",
   "metadata": {},
   "outputs": [
    {
     "name": "stdout",
     "output_type": "stream",
     "text": [
      "Train Encodings: 114\n",
      "Train Labels: 114\n"
     ]
    }
   ],
   "source": [
    "print(f\"Train Encodings: {len(train_encodings['input_ids'])}\")\n",
    "print(f\"Train Labels: {len(train_labels)}\")"
   ]
  },
  {
   "cell_type": "code",
   "execution_count": 39,
   "id": "952c13be-edab-42ad-af87-72db1df353b1",
   "metadata": {},
   "outputs": [],
   "source": [
    "train_labels = train_labels.reset_index(drop=True)"
   ]
  },
  {
   "cell_type": "code",
   "execution_count": 40,
   "id": "07c79e7f-90b3-4405-992d-6fbc48c77f70",
   "metadata": {},
   "outputs": [],
   "source": [
    "for batch in train_loader:\n",
    "    optimizer.zero_grad()\n",
    "    input_ids = batch['input_ids'].to(device)\n",
    "    attention_mask = batch['attention_mask'].to(device)\n",
    "    labels = batch['labels'].to(device)\n",
    "    outputs = model_pr(input_ids, attention_mask=attention_mask, labels=labels)\n",
    "    loss = outputs.loss\n",
    "    total_loss += loss.item()\n",
    "    loss.backward()\n",
    "    optimizer.step()"
   ]
  },
  {
   "cell_type": "markdown",
   "id": "f88b52e3-a01d-405b-ac40-068b6ac43c6c",
   "metadata": {},
   "source": [
    "For each batch:\n",
    "\n",
    "- Clears gradients: optimizer.zero_grad()\n",
    "\n",
    "- Processes inputs: input_ids, attention_mask, and labels\n",
    "\n",
    "- Computes loss\n",
    "\n",
    "- Backpropagates gradients: loss.backward()\n",
    "\n",
    "- Updates model parameters: optimizer.step()"
   ]
  },
  {
   "cell_type": "code",
   "execution_count": 41,
   "id": "72fd8f9a-05f5-42d0-9252-6422187b2fdf",
   "metadata": {},
   "outputs": [
    {
     "name": "stdout",
     "output_type": "stream",
     "text": [
      "Epoch 3, Loss: 0.7051668912172318\n"
     ]
    }
   ],
   "source": [
    "#Prints the average loss after each epoch\n",
    "print(f\"Epoch {epoch + 1}, Loss: {total_loss / len(train_loader)}\")"
   ]
  },
  {
   "cell_type": "markdown",
   "id": "0259a5c2-eb7f-47dd-b017-39a4c2bc599a",
   "metadata": {},
   "source": [
    "<b> Evaluation </b>"
   ]
  },
  {
   "cell_type": "code",
   "execution_count": 42,
   "id": "1dade8d3-bbfe-4190-ad9d-b3c4d03ab987",
   "metadata": {},
   "outputs": [],
   "source": [
    "#Loads the accuracy matrix\n",
    "accuracy_metric = evaluate.load(\"accuracy\")"
   ]
  },
  {
   "cell_type": "code",
   "execution_count": 44,
   "id": "ed764425-238b-4b30-ae51-89e596aea279",
   "metadata": {},
   "outputs": [],
   "source": [
    "#Sets the model to evaluation mode and initializes storage for predictions and labels\n",
    "model_pr.eval()\n",
    "predictions = []\n",
    "references = []"
   ]
  },
  {
   "cell_type": "code",
   "execution_count": 46,
   "id": "7d19cde2-b93c-49fc-8797-34d46906f9ba",
   "metadata": {},
   "outputs": [],
   "source": [
    "for batch in test_loader:\n",
    "    input_ids = batch['input_ids'].to(device)\n",
    "    attention_mask = batch['attention_mask'].to(device)\n",
    "    labels = batch['labels'].to(device)\n",
    "    with torch.no_grad():\n",
    "        outputs = model_pr(input_ids, attention_mask=attention_mask)\n",
    "    preds = torch.argmax(outputs.logits, dim=-1)\n",
    "    predictions.extend(preds.cpu().numpy())\n",
    "    references.extend(labels.cpu().numpy())"
   ]
  },
  {
   "cell_type": "markdown",
   "id": "2a4800b9-20c1-4a81-abc7-a3d25c417feb",
   "metadata": {},
   "source": [
    "For each batch in the test set:\n",
    "\n",
    "- Moves inputs to the appropriate device.\n",
    "\n",
    "- Predicts logits without computing gradients: torch.no_grad().\n",
    "\n",
    "- Converts logits to predictions: torch.argmax().\n",
    "\n",
    "- Stores predictions and labels."
   ]
  },
  {
   "cell_type": "code",
   "execution_count": 47,
   "id": "f8fea969-3a98-45a5-853c-3a1a394bf2a3",
   "metadata": {},
   "outputs": [
    {
     "name": "stdout",
     "output_type": "stream",
     "text": [
      "Test Accuracy: 0.7586206896551724\n"
     ]
    }
   ],
   "source": [
    "#Computes and prints the test set accuracy\n",
    "accuracy = accuracy_metric.compute(predictions=predictions, references=references)\n",
    "print(f\"Test Accuracy: {accuracy['accuracy']}\")"
   ]
  },
  {
   "cell_type": "markdown",
   "id": "783daaf2-6f05-44d1-bc3f-b5a05be796b4",
   "metadata": {},
   "source": [
    "<b> Save Model </b>"
   ]
  },
  {
   "cell_type": "code",
   "execution_count": 49,
   "id": "3decbbe4-8677-47fa-a8fe-5ddb7e744f34",
   "metadata": {},
   "outputs": [
    {
     "data": {
      "text/plain": [
       "('sentiment_model_patient_reviews\\\\tokenizer_config.json',\n",
       " 'sentiment_model_patient_reviews\\\\special_tokens_map.json',\n",
       " 'sentiment_model_patient_reviews\\\\vocab.txt',\n",
       " 'sentiment_model_patient_reviews\\\\added_tokens.json')"
      ]
     },
     "execution_count": 49,
     "metadata": {},
     "output_type": "execute_result"
    }
   ],
   "source": [
    "model_pr.save_pretrained('sentiment_model_patient_reviews')\n",
    "tokenizer.save_pretrained('sentiment_model_patient_reviews')"
   ]
  },
  {
   "cell_type": "code",
   "execution_count": null,
   "id": "457a6214-4f7b-4f31-bfb8-75d99c933c1c",
   "metadata": {},
   "outputs": [],
   "source": []
  }
 ],
 "metadata": {
  "kernelspec": {
   "display_name": "Python 3 (ipykernel)",
   "language": "python",
   "name": "python3"
  },
  "language_info": {
   "codemirror_mode": {
    "name": "ipython",
    "version": 3
   },
   "file_extension": ".py",
   "mimetype": "text/x-python",
   "name": "python",
   "nbconvert_exporter": "python",
   "pygments_lexer": "ipython3",
   "version": "3.8.3"
  }
 },
 "nbformat": 4,
 "nbformat_minor": 5
}
